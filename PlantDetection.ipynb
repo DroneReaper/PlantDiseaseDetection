{
 "cells": [
  {
   "cell_type": "code",
   "execution_count": 1,
   "metadata": {},
   "outputs": [
    {
     "data": {
      "text/plain": [
       "True"
      ]
     },
     "execution_count": 1,
     "metadata": {},
     "output_type": "execute_result"
    }
   ],
   "source": [
    "import tensorflow as tf\n",
    "tf.test.is_built_with_cuda()"
   ]
  },
  {
   "cell_type": "code",
   "execution_count": 7,
   "metadata": {},
   "outputs": [],
   "source": [
    "#Feature selection: removing images that won't be used in final model\n",
    "import shutil\n",
    "\n",
    "shutil.rmtree('c:/users/Rishi/Desktop/Plant_Disease/New Plant Diseases Dataset(Augmented)/New Plant Diseases Dataset(Augmented)/train/Blueberry___healthy')\n",
    "shutil.rmtree('c:/users/Rishi/Desktop/Plant_Disease/New Plant Diseases Dataset(Augmented)/New Plant Diseases Dataset(Augmented)/train/Orange___Haunglongbing_(Citrus_greening)')\n",
    "shutil.rmtree('c:/users/Rishi/Desktop/Plant_Disease/New Plant Diseases Dataset(Augmented)/New Plant Diseases Dataset(Augmented)/train/Raspberry___healthy')\n",
    "shutil.rmtree('c:/users/Rishi/Desktop/Plant_Disease/New Plant Diseases Dataset(Augmented)/New Plant Diseases Dataset(Augmented)/train/Soybean___healthy')\n",
    "shutil.rmtree('c:/users/Rishi/Desktop/Plant_Disease/New Plant Diseases Dataset(Augmented)/New Plant Diseases Dataset(Augmented)/train/Squash___Powdery_mildew')\n",
    "\n",
    "shutil.rmtree('c:/users/Rishi/Desktop/Plant_Disease/New Plant Diseases Dataset(Augmented)/New Plant Diseases Dataset(Augmented)/valid/Blueberry___healthy')\n",
    "shutil.rmtree('c:/users/Rishi/Desktop/Plant_Disease/New Plant Diseases Dataset(Augmented)/New Plant Diseases Dataset(Augmented)/valid/Orange___Haunglongbing_(Citrus_greening)')\n",
    "shutil.rmtree('c:/users/Rishi/Desktop/Plant_Disease/New Plant Diseases Dataset(Augmented)/New Plant Diseases Dataset(Augmented)/valid/Raspberry___healthy')\n",
    "shutil.rmtree('c:/users/Rishi/Desktop/Plant_Disease/New Plant Diseases Dataset(Augmented)/New Plant Diseases Dataset(Augmented)/valid/Soybean___healthy')\n",
    "shutil.rmtree('c:/users/Rishi/Desktop/Plant_Disease/New Plant Diseases Dataset(Augmented)/New Plant Diseases Dataset(Augmented)/valid/Squash___Powdery_mildew')"
   ]
  },
  {
   "cell_type": "code",
   "execution_count": 2,
   "metadata": {},
   "outputs": [
    {
     "name": "stdout",
     "output_type": "stream",
     "text": [
      "['Apple___Apple_scab' 'Apple___Black_rot' 'Apple___Cedar_apple_rust'\n",
      " 'Apple___healthy' 'Cherry_(including_sour)___Powdery_mildew'\n",
      " 'Cherry_(including_sour)___healthy'\n",
      " 'Corn_(maize)___Cercospora_leaf_spot Gray_leaf_spot'\n",
      " 'Corn_(maize)___Common_rust_' 'Corn_(maize)___Northern_Leaf_Blight'\n",
      " 'Corn_(maize)___healthy' 'Grape___Black_rot'\n",
      " 'Grape___Esca_(Black_Measles)'\n",
      " 'Grape___Leaf_blight_(Isariopsis_Leaf_Spot)' 'Grape___healthy'\n",
      " 'Peach___Bacterial_spot' 'Peach___healthy'\n",
      " 'Pepper,_bell___Bacterial_spot' 'Pepper,_bell___healthy'\n",
      " 'Potato___Early_blight' 'Potato___Late_blight' 'Potato___healthy'\n",
      " 'Strawberry___Leaf_scorch' 'Strawberry___healthy'\n",
      " 'Tomato___Bacterial_spot' 'Tomato___Early_blight' 'Tomato___Late_blight'\n",
      " 'Tomato___Leaf_Mold' 'Tomato___Septoria_leaf_spot'\n",
      " 'Tomato___Spider_mites Two-spotted_spider_mite' 'Tomato___Target_Spot'\n",
      " 'Tomato___Tomato_Yellow_Leaf_Curl_Virus' 'Tomato___Tomato_mosaic_virus'\n",
      " 'Tomato___healthy']\n"
     ]
    }
   ],
   "source": [
    "#Checking class names and reading in directory for images\n",
    "import numpy as np\n",
    "import pathlib\n",
    "data_dir = pathlib.Path(\"c:/users/Rishi/Desktop/Plant_Disease/New Plant Diseases Dataset(Augmented)/New Plant Diseases Dataset(Augmented)/train/\") # turn our training path into a Python path\n",
    "class_names = np.array(sorted([item.name for item in data_dir.glob('*')])) # created a list of class_names from the subdirectories\n",
    "print(class_names)"
   ]
  },
  {
   "cell_type": "code",
   "execution_count": 3,
   "metadata": {},
   "outputs": [
    {
     "data": {
      "text/plain": [
       "33"
      ]
     },
     "execution_count": 3,
     "metadata": {},
     "output_type": "execute_result"
    }
   ],
   "source": [
    "#Seeing number of classes\n",
    "import os\n",
    "len(os.listdir('c:/users/Rishi/Desktop/Plant_Disease/New Plant Diseases Dataset(Augmented)/New Plant Diseases Dataset(Augmented)/valid/'))"
   ]
  },
  {
   "cell_type": "code",
   "execution_count": 4,
   "metadata": {},
   "outputs": [],
   "source": [
    "#Loading in train and test directories\n",
    "train_dir = \"c:/users/Rishi/Desktop/Plant_Disease/New Plant Diseases Dataset(Augmented)/New Plant Diseases Dataset(Augmented)/train/\"\n",
    "test_dir = \"c:/users/Rishi/Desktop/Plant_Disease/New Plant Diseases Dataset(Augmented)/New Plant Diseases Dataset(Augmented)/valid/\""
   ]
  },
  {
   "cell_type": "code",
   "execution_count": 5,
   "metadata": {},
   "outputs": [
    {
     "name": "stdout",
     "output_type": "stream",
     "text": [
      "33\n",
      "33\n"
     ]
    }
   ],
   "source": [
    "#Checking number of classes in each directory\n",
    "print(len(os.listdir('c:/users/Rishi/Desktop/Plant_Disease/New Plant Diseases Dataset(Augmented)/New Plant Diseases Dataset(Augmented)/train/')))\n",
    "print(len(os.listdir('c:/users/Rishi/Desktop/Plant_Disease/New Plant Diseases Dataset(Augmented)/New Plant Diseases Dataset(Augmented)/valid/')))"
   ]
  },
  {
   "cell_type": "code",
   "execution_count": 6,
   "metadata": {},
   "outputs": [
    {
     "ename": "ModuleNotFoundError",
     "evalue": "No module named 'cv2'",
     "output_type": "error",
     "traceback": [
      "\u001b[1;31m---------------------------------------------------------------------------\u001b[0m",
      "\u001b[1;31mModuleNotFoundError\u001b[0m                       Traceback (most recent call last)",
      "\u001b[1;32m<ipython-input-6-129e09e1736e>\u001b[0m in \u001b[0;36m<module>\u001b[1;34m\u001b[0m\n\u001b[0;32m      8\u001b[0m \u001b[1;32mimport\u001b[0m \u001b[0mseaborn\u001b[0m \u001b[1;32mas\u001b[0m \u001b[0msns\u001b[0m\u001b[1;33m\u001b[0m\u001b[1;33m\u001b[0m\u001b[0m\n\u001b[0;32m      9\u001b[0m \u001b[1;32mimport\u001b[0m \u001b[0mpandas\u001b[0m \u001b[1;32mas\u001b[0m \u001b[0mpd\u001b[0m\u001b[1;33m\u001b[0m\u001b[1;33m\u001b[0m\u001b[0m\n\u001b[1;32m---> 10\u001b[1;33m \u001b[1;32mimport\u001b[0m \u001b[0mcv2\u001b[0m\u001b[1;33m\u001b[0m\u001b[1;33m\u001b[0m\u001b[0m\n\u001b[0m\u001b[0;32m     11\u001b[0m \u001b[1;33m\u001b[0m\u001b[0m\n\u001b[0;32m     12\u001b[0m \u001b[0mdata_train_dir\u001b[0m \u001b[1;33m=\u001b[0m \u001b[0mpathlib\u001b[0m\u001b[1;33m.\u001b[0m\u001b[0mPath\u001b[0m\u001b[1;33m(\u001b[0m\u001b[1;34m\"c:/users/Rishi/Desktop/Plant_Disease/New Plant Diseases Dataset(Augmented)/New Plant Diseases Dataset(Augmented)/train\"\u001b[0m\u001b[1;33m)\u001b[0m\u001b[1;33m\u001b[0m\u001b[1;33m\u001b[0m\u001b[0m\n",
      "\u001b[1;31mModuleNotFoundError\u001b[0m: No module named 'cv2'"
     ]
    }
   ],
   "source": [
    "import sklearn\n",
    "from sklearn import preprocessing\n",
    "from sklearn.model_selection import train_test_split\n",
    "from sklearn.neighbors import KNeighborsClassifier\n",
    "from skimage.feature import hog as ext\n",
    "import matplotlib.pyplot as plt\n",
    "from matplotlib import image as mpimg\n",
    "import seaborn as sns\n",
    "import pandas as pd\n",
    "import cv2\n",
    "\n",
    "\n",
    "data_train_dir = pathlib.Path(\"c:/users/Rishi/Desktop/Plant_Disease/New Plant Diseases Dataset(Augmented)/New Plant Diseases Dataset(Augmented)/train\")\n",
    "\n",
    "#Resizing images for quicker train times and creating train set for KNN model\n",
    "data_train = []\n",
    "for item in data_train_dir.glob('*'):\n",
    "  for entry in item.glob('*'):\n",
    "    img = np.array(mpimg.imread(entry))\n",
    "    resized_img = cv2.resize(img, (64, 32))\n",
    "    fd = ext(resized_img)\n",
    "    data_train.append(fd)\n",
    "\n",
    "data_test_dir = pathlib.Path(\"c:/users/Rishi/Desktop/Plant_Disease/New Plant Diseases Dataset(Augmented)/New Plant Diseases Dataset(Augmented)/valid\")\n",
    "\n",
    "#Resizing images for quicker train times and creating test set for KNN model\n",
    "data_test = []\n",
    "for item in data_test_dir.glob('*'):\n",
    "  for entry in item.glob('*'):\n",
    "    img = np.array(mpimg.imread(entry))\n",
    "    resized_img = cv2.resize(img, (64, 32))\n",
    "    fd = ext(resized_img)\n",
    "    data_test.append(fd)"
   ]
  },
  {
   "cell_type": "code",
   "execution_count": 36,
   "metadata": {},
   "outputs": [
    {
     "ename": "NameError",
     "evalue": "name 'data_train' is not defined",
     "output_type": "error",
     "traceback": [
      "\u001b[1;31m---------------------------------------------------------------------------\u001b[0m",
      "\u001b[1;31mNameError\u001b[0m                                 Traceback (most recent call last)",
      "\u001b[1;32m<ipython-input-36-b7175bfd8210>\u001b[0m in \u001b[0;36m<module>\u001b[1;34m\u001b[0m\n\u001b[0;32m      1\u001b[0m \u001b[1;31m#Getting all train labels\u001b[0m\u001b[1;33m\u001b[0m\u001b[1;33m\u001b[0m\u001b[1;33m\u001b[0m\u001b[0m\n\u001b[0;32m      2\u001b[0m \u001b[0mtrain_labels\u001b[0m \u001b[1;33m=\u001b[0m \u001b[1;33m[\u001b[0m\u001b[1;33m]\u001b[0m\u001b[1;33m\u001b[0m\u001b[1;33m\u001b[0m\u001b[0m\n\u001b[1;32m----> 3\u001b[1;33m \u001b[1;32mfor\u001b[0m \u001b[0mi\u001b[0m \u001b[1;32min\u001b[0m \u001b[0mrange\u001b[0m\u001b[1;33m(\u001b[0m\u001b[0mlen\u001b[0m\u001b[1;33m(\u001b[0m\u001b[0mdata_train\u001b[0m\u001b[1;33m)\u001b[0m\u001b[1;33m)\u001b[0m\u001b[1;33m:\u001b[0m\u001b[1;33m\u001b[0m\u001b[1;33m\u001b[0m\u001b[0m\n\u001b[0m\u001b[0;32m      4\u001b[0m   \u001b[1;32mif\u001b[0m \u001b[0mi\u001b[0m \u001b[1;33m<=\u001b[0m \u001b[1;36m2016\u001b[0m\u001b[1;33m:\u001b[0m\u001b[1;33m\u001b[0m\u001b[1;33m\u001b[0m\u001b[0m\n\u001b[0;32m      5\u001b[0m     \u001b[0mtrain_labels\u001b[0m\u001b[1;33m.\u001b[0m\u001b[0mappend\u001b[0m\u001b[1;33m(\u001b[0m\u001b[1;34m'Apple___Apple_scab'\u001b[0m\u001b[1;33m)\u001b[0m\u001b[1;33m\u001b[0m\u001b[1;33m\u001b[0m\u001b[0m\n",
      "\u001b[1;31mNameError\u001b[0m: name 'data_train' is not defined"
     ]
    }
   ],
   "source": [
    "#Getting all train labels\n",
    "train_labels = []\n",
    "for i in range(len(data_train)):\n",
    "  if i <= 2016:\n",
    "    train_labels.append('Apple___Apple_scab')\n",
    "  elif i > 2016 and i <= 4003:\n",
    "    train_labels.append('Apple___Black_rot')\n",
    "  elif i > 4003 and i <= 5763:\n",
    "    train_labels.append('Apple___Cedar_apple_rust')\n",
    "  elif i > 5763 and i <= 7771:\n",
    "    train_labels.append('Apple___healthy')\n",
    "  elif i > 7771 and i <= 9597:\n",
    "    train_labels.append('Cherry_(including_sour)___Powdery_mildew')\n",
    "  elif i > 9597 and i <= 11280:\n",
    "    train_labels.append('Cherry_(including_sour)___healthy')\n",
    "  elif i > 11280 and i <= 12922:\n",
    "    train_labels.append('Corn_(maize)___Cercospora_leaf_spot Gray_leaf_spot')\n",
    "  elif i > 12922 and i <= 14829:\n",
    "    train_labels.append('Corn_(maize)___Common_rust_')\n",
    "  elif i > 14829 and i <= 16688:\n",
    "    train_labels.append('Corn_(maize)___Northern_Leaf_Blight')\n",
    "  elif i > 16688 and i <= 18596:\n",
    "    train_labels.append('Corn_(maize)___healthy')\n",
    "  elif i > 18596 and i <= 20484:\n",
    "    train_labels.append('Grape___Black_rot')\n",
    "  elif i > 20484 and i <= 22404:\n",
    "    train_labels.append('Grape___Esca_(Black_Measles)')\n",
    "  elif i > 22404 and i <= 24096:\n",
    "    train_labels.append('Grape___Leaf_blight_(Isariopsis_Leaf_Spot)')\n",
    "  elif i > 24096 and i <= 25818:\n",
    "    train_labels.append('Grape___healthy')\n",
    "  elif i > 25818 and i <= 27656:\n",
    "    train_labels.append('Peach___Bacterial_spot')\n",
    "  elif i > 27656 and i <= 29384:\n",
    "    train_labels.append('Peach___healthy')\n",
    "  elif i > 29384 and i <= 31297:\n",
    "    train_labels.append('Pepper,_bell___Bacterial_spot')\n",
    "  elif i > 31297 and i <= 33285:\n",
    "    train_labels.append('Pepper,_bell___healthy')\n",
    "  elif i > 33285 and i <= 35224:\n",
    "    train_labels.append('Potato___Early_blight')\n",
    "  elif i > 35224 and i <= 37048:\n",
    "    train_labels.append('Potato___Late_blight')\n",
    "  elif i > 37048 and i <= 38987:\n",
    "    train_labels.append('Potato___healthy')\n",
    "  elif i > 38987 and i <= 40811:\n",
    "    train_labels.append('Strawberry___Leaf_scorch')\n",
    "  elif i > 40811 and i <= 42585:\n",
    "    train_labels.append('Strawberry___healthy')\n",
    "  elif i > 42585 and i <= 44287:\n",
    "    train_labels.append('Tomato___Bacterial_spot')\n",
    "  elif i > 44287 and i <= 46207:\n",
    "    train_labels.append('Tomato___Early_blight')\n",
    "  elif i > 46207 and i <= 48133:\n",
    "    train_labels.append('Tomato___Late_blight')\n",
    "  elif i > 48133 and i <= 49984:\n",
    "    train_labels.append('Tomato___Leaf_Mold')\n",
    "  elif i > 49984 and i <= 51866:\n",
    "    train_labels.append('Tomato___Septoria_leaf_spot')\n",
    "  elif i > 51866 and i <= 53611:\n",
    "    train_labels.append('Tomato___Spider_mites Two-spotted_spider_mite')\n",
    "  elif i > 53611 and i <= 55352:\n",
    "    train_labels.append('Tomato___Target_Spot')\n",
    "  elif i > 55352 and i <= 57179:\n",
    "    train_labels.append('Tomato___Tomato_Yellow_Leaf_Curl_Virus')\n",
    "  elif i > 57179 and i <= 58969:\n",
    "    train_labels.append('Tomato___Tomato_mosaic_virus')\n",
    "  else:\n",
    "    train_labels.append('Tomato___healthy')\n",
    "\n",
    "#getting all test labels\n",
    "test_labels = []\n",
    "for i in range(len(data_test)):\n",
    "  if i <= 504:\n",
    "    test_labels.append('Apple___Apple_scab')\n",
    "  elif i > 504 and i <= 1001:\n",
    "    test_labels.append('Apple___Black_rot')\n",
    "  elif i > 1001 and i <= 1441:\n",
    "    test_labels.append('Apple___Cedar_apple_rust')\n",
    "  elif i > 1441 and i <= 1943:\n",
    "    test_labels.append('Apple___healthy')\n",
    "  elif i > 1943 and i <= 2399:\n",
    "    test_labels.append('Cherry_(including_sour)___Powdery_mildew')\n",
    "  elif i > 2399 and i <= 2820:\n",
    "    test_labels.append('Cherry_(including_sour)___healthy')\n",
    "  elif i > 2820 and i <= 3230:\n",
    "    test_labels.append('Corn_(maize)___Cercospora_leaf_spot Gray_leaf_spot')\n",
    "  elif i > 3230 and i <= 3707:\n",
    "    test_labels.append('Corn_(maize)___Common_rust_')\n",
    "  elif i > 3707 and i <= 4172:\n",
    "    test_labels.append('Corn_(maize)___Northern_Leaf_Blight')\n",
    "  elif i > 4172 and i <= 4649:\n",
    "    test_labels.append('Corn_(maize)___healthy')\n",
    "  elif i > 4649 and i <= 5121:\n",
    "    test_labels.append('Grape___Black_rot')\n",
    "  elif i > 5121 and i <= 5601:\n",
    "    test_labels.append('Grape___Esca_(Black_Measles)')\n",
    "  elif i > 5601 and i <= 6024:\n",
    "    test_labels.append('Grape___Leaf_blight_(Isariopsis_Leaf_Spot)')\n",
    "  elif i > 6024 and i <= 6454:\n",
    "    test_labels.append('Grape___healthy')\n",
    "  elif i > 6454 and i <= 6913:\n",
    "    test_labels.append('Peach___Bacterial_spot')\n",
    "  elif i > 6913 and i <= 7345:\n",
    "    test_labels.append('Peach___healthy')\n",
    "  elif i > 7345 and i <= 7823:\n",
    "    test_labels.append('Pepper,_bell___Bacterial_spot')\n",
    "  elif i > 7823 and i <= 8320:\n",
    "    test_labels.append('Pepper,_bell___healthy')\n",
    "  elif i > 8320 and i <= 8805:\n",
    "    test_labels.append('Potato___Early_blight')\n",
    "  elif i > 8805 and i <= 9261:\n",
    "    test_labels.append('Potato___Late_blight')\n",
    "  elif i > 9261 and i <= 9746:\n",
    "    test_labels.append('Potato___healthy')\n",
    "  elif i > 9746 and i <= 10202:\n",
    "    test_labels.append('Strawberry___Leaf_scorch')\n",
    "  elif i > 10202 and i <= 10646:\n",
    "    test_labels.append('Strawberry___healthy')\n",
    "  elif i > 10646 and i <= 11071:\n",
    "    test_labels.append('Tomato___Bacterial_spot')\n",
    "  elif i > 11071 and i <= 11551:\n",
    "    test_labels.append('Tomato___Early_blight')\n",
    "  elif i > 11551 and i <= 12032:\n",
    "    test_labels.append('Tomato___Late_blight')\n",
    "  elif i > 12032 and i <= 12495:\n",
    "    test_labels.append('Tomato___Leaf_Mold')\n",
    "  elif i > 12495 and i <= 12965:\n",
    "    test_labels.append('Tomato___Septoria_leaf_spot')\n",
    "  elif i > 12965 and i <= 13401:\n",
    "    test_labels.append('Tomato___Spider_mites Two-spotted_spider_mite')\n",
    "  elif i > 13401 and i <= 13836:\n",
    "    test_labels.append('Tomato___Target_Spot')\n",
    "  elif i > 13836 and i <= 14293:\n",
    "    test_labels.append('Tomato___Tomato_Yellow_Leaf_Curl_Virus')\n",
    "  elif i > 14293 and i <= 14741:\n",
    "    test_labels.append('Tomato___Tomato_mosaic_virus')\n",
    "  else:\n",
    "    test_labels.append('Tomato___healthy')"
   ]
  },
  {
   "cell_type": "code",
   "execution_count": null,
   "metadata": {},
   "outputs": [],
   "source": [
    "from sklearn.metrics import classification_report, confusion_matrix, accuracy_score, f1_score\n",
    "\n",
    "knn1 = KNeighborsClassifier(n_neighbors=10)\n",
    "knn1.fit(data_train, train_labels)\n",
    "\n",
    "knn_pred = knn1.predict(data_test)\n",
    "\n",
    "knn_acc = knn1.score(data_test, test_labels)\n",
    "\n",
    "knn_conf = confusion_matrix(test_labels, knn_pred)\n",
    "\n",
    "knn_classrep = classification_report(test_labels, knn_pred)\n",
    "\n",
    "knn_acc2 = accuracy_score(test_labels, knn_pred)"
   ]
  },
  {
   "cell_type": "code",
   "execution_count": null,
   "metadata": {},
   "outputs": [],
   "source": [
    "print(knn_acc)\n",
    "print(knn_conf)\n",
    "print(knn_classrep)\n",
    "print(knn_acc2)"
   ]
  },
  {
   "cell_type": "code",
   "execution_count": null,
   "metadata": {},
   "outputs": [],
   "source": [
    "import tensorflow as tf\n",
    "from tensorflow.keras.preprocessing.image import ImageDataGenerator\n",
    "\n",
    "# Preprocess data and get all of the pixel values between 1 and 0, also called scaling/normalization\n",
    "train_datagen = ImageDataGenerator(rescale=1./255)\n",
    "valid_datagen = ImageDataGenerator(rescale=1./255)\n",
    "\n",
    "# Batch data from directories\n",
    "train_data = train_datagen.flow_from_directory(train_dir,\n",
    "                                               target_size=(224, 224),\n",
    "                                               batch_size=32,\n",
    "                                               class_mode='categorical') # changed to categorical\n",
    "\n",
    "test_data = train_datagen.flow_from_directory(test_dir,\n",
    "                                              target_size=(224, 224),\n",
    "                                              batch_size=32,\n",
    "                                              class_mode='categorical')"
   ]
  },
  {
   "cell_type": "code",
   "execution_count": null,
   "metadata": {},
   "outputs": [],
   "source": [
    "import tensorflow as tf\n",
    "from tensorflow.keras.models import Sequential\n",
    "from tensorflow.keras.layers import Conv2D, MaxPool2D, Flatten, Dense\n",
    "\n",
    "# Simple CNN with 4 convolutional layers and 2 pooling layers\n",
    "model_2 = Sequential([\n",
    "  Conv2D(33, 3, activation='relu', input_shape=(224, 224, 3)),\n",
    "  Conv2D(33, 3, activation='relu'),\n",
    "  MaxPool2D(),\n",
    "  Conv2D(33, 3, activation='relu'),\n",
    "  Conv2D(33, 3, activation='relu'),\n",
    "  MaxPool2D(),\n",
    "  Flatten(),\n",
    "  Dense(33, activation='softmax') # 33 neurons for number of classes\n",
    "])\n",
    "\n",
    "# Compile the model\n",
    "model_2.compile(loss=\"categorical_crossentropy\",\n",
    "                optimizer=tf.keras.optimizers.Adam(),\n",
    "                metrics=[\"accuracy\"])"
   ]
  },
  {
   "cell_type": "code",
   "execution_count": null,
   "metadata": {},
   "outputs": [],
   "source": [
    "# Fit the model\n",
    "history_2 = model_2.fit(train_data,\n",
    "                        epochs=5,\n",
    "                        steps_per_epoch=len(train_data),\n",
    "                        validation_data=test_data,\n",
    "                        validation_steps=len(test_data))"
   ]
  },
  {
   "cell_type": "code",
   "execution_count": 7,
   "metadata": {},
   "outputs": [
    {
     "name": "stdout",
     "output_type": "stream",
     "text": [
      "Found 60930 files belonging to 33 classes.\n",
      "Found 15231 files belonging to 33 classes.\n"
     ]
    }
   ],
   "source": [
    "# Setup data inputs for pre-trained model\n",
    "IMG_SIZE = (224, 224)\n",
    "train_data_fine = tf.keras.preprocessing.image_dataset_from_directory(train_dir,\n",
    "                                                                            label_mode=\"categorical\",\n",
    "                                                                            image_size=IMG_SIZE)\n",
    "\n",
    "test_data_fine = tf.keras.preprocessing.image_dataset_from_directory(test_dir,\n",
    "                                                                label_mode=\"categorical\",\n",
    "                                                                image_size=IMG_SIZE)"
   ]
  },
  {
   "cell_type": "code",
   "execution_count": 8,
   "metadata": {},
   "outputs": [],
   "source": [
    "from tensorflow.keras import layers\n",
    "from tensorflow.keras.layers.experimental import preprocessing\n",
    "from tensorflow.keras.models import Sequential\n",
    "\n",
    "#data augmentation layer which alters images to add more variation for training to take into account test images that may be photographed differently \n",
    "data_augmentation = Sequential([\n",
    "  preprocessing.RandomFlip('horizontal'),\n",
    "  preprocessing.RandomHeight(0.2),\n",
    "  preprocessing.RandomWidth(0.2),\n",
    "  preprocessing.RandomZoom(0.2),\n",
    "  preprocessing.RandomRotation(0.2),\n",
    "  # preprocessing.Rescaling(1./255) # keep for ResNet50V2, remove for EfficientNet                 \n",
    "])\n",
    "\n",
    "input_shape = (224, 224, 3)\n",
    "\n",
    "#importing EfficientNet and freezing all layers\n",
    "base_model = tf.keras.applications.EfficientNetB0(include_top=False)\n",
    "base_model.trainable = False\n",
    "\n",
    "# Create input and output layers\n",
    "inputs = layers.Input(shape=input_shape, name=\"input_layer\") # create input layer\n",
    "x = data_augmentation(inputs) # augment our training images\n",
    "x = base_model(x, training=False)\n",
    "x = layers.GlobalAveragePooling2D(x) #pooling layer to flatten arrays\n",
    "outputs = layers.Dense(33, activation=\"softmax\")(x) #output layers using softmax activation for classification data\n",
    "model_3 = tf.keras.Model(inputs, outputs)\n",
    "\n",
    "# Compile the model with Adam optimizer and use a standard learning rate of 0.001\n",
    "model_3.compile(loss=\"categorical_crossentropy\",\n",
    "              optimizer=tf.keras.optimizers.Adam(lr=0.001),\n",
    "              metrics=[\"accuracy\"])"
   ]
  },
  {
   "cell_type": "code",
   "execution_count": 9,
   "metadata": {},
   "outputs": [
    {
     "name": "stdout",
     "output_type": "stream",
     "text": [
      "Epoch 1/5\n",
      "1905/1905 [==============================] - 1626s 852ms/step - loss: 1.0573 - accuracy: 0.7593 - val_loss: 0.2861 - val_accuracy: 0.9178\n",
      "Epoch 2/5\n",
      "1905/1905 [==============================] - 1605s 842ms/step - loss: 0.2642 - accuracy: 0.9275 - val_loss: 0.2276 - val_accuracy: 0.9286\n",
      "Epoch 3/5\n",
      "1905/1905 [==============================] - 1667s 875ms/step - loss: 0.1934 - accuracy: 0.9443 - val_loss: 0.1903 - val_accuracy: 0.9404\n",
      "Epoch 4/5\n",
      "1905/1905 [==============================] - 1575s 826ms/step - loss: 0.1600 - accuracy: 0.9532 - val_loss: 0.1653 - val_accuracy: 0.9464\n",
      "Epoch 5/5\n",
      "1905/1905 [==============================] - 1494s 784ms/step - loss: 0.1421 - accuracy: 0.9581 - val_loss: 0.1544 - val_accuracy: 0.9509\n"
     ]
    }
   ],
   "source": [
    "#Fitting the model and running 5 epochs\n",
    "initial_epochs = 5\n",
    "history_3 = model_3.fit(train_data_fine,\n",
    "                        epochs=initial_epochs,\n",
    "                        validation_data=test_data_fine,\n",
    "                        validation_steps=int(0.25 * len(test_data_fine)), # do less steps per validation\n",
    "                        )"
   ]
  },
  {
   "cell_type": "code",
   "execution_count": 10,
   "metadata": {},
   "outputs": [
    {
     "name": "stdout",
     "output_type": "stream",
     "text": [
      "476/476 [==============================] - 366s 768ms/step - loss: 0.1494 - accuracy: 0.9504\n"
     ]
    }
   ],
   "source": [
    "results_pretrain = model_3.evaluate(test_data_fine)"
   ]
  },
  {
   "cell_type": "code",
   "execution_count": 11,
   "metadata": {},
   "outputs": [],
   "source": [
    "base_model.trainable = True\n",
    "\n",
    "# Freeze all layers except for the last 10\n",
    "for layer in base_model.layers[:-10]:\n",
    "  layer.trainable = False\n",
    "\n",
    "# Recompile the model\n",
    "model_3.compile(loss=\"categorical_crossentropy\",\n",
    "              optimizer=tf.keras.optimizers.Adam(lr=0.0001), # learning rate is changed and made lower for fine tuning\n",
    "              metrics=[\"accuracy\"])"
   ]
  },
  {
   "cell_type": "code",
   "execution_count": 12,
   "metadata": {},
   "outputs": [
    {
     "name": "stdout",
     "output_type": "stream",
     "text": [
      "Epoch 5/10\n",
      "1905/1905 [==============================] - 1570s 822ms/step - loss: 0.1212 - accuracy: 0.9581 - val_loss: 0.1033 - val_accuracy: 0.9672\n",
      "Epoch 6/10\n",
      "1905/1905 [==============================] - 1566s 822ms/step - loss: 0.0824 - accuracy: 0.9720 - val_loss: 0.0994 - val_accuracy: 0.9624\n",
      "Epoch 7/10\n",
      "1905/1905 [==============================] - 1569s 824ms/step - loss: 0.0678 - accuracy: 0.9765 - val_loss: 0.0870 - val_accuracy: 0.9693\n",
      "Epoch 8/10\n",
      "1905/1905 [==============================] - 1585s 832ms/step - loss: 0.0539 - accuracy: 0.9817 - val_loss: 0.0774 - val_accuracy: 0.9709\n",
      "Epoch 9/10\n",
      "1905/1905 [==============================] - 1577s 828ms/step - loss: 0.0470 - accuracy: 0.9834 - val_loss: 0.0736 - val_accuracy: 0.9737\n",
      "Epoch 10/10\n",
      "1905/1905 [==============================] - 1580s 829ms/step - loss: 0.0404 - accuracy: 0.9868 - val_loss: 0.0781 - val_accuracy: 0.9714\n"
     ]
    }
   ],
   "source": [
    "# Fine tune for another 5 epochs\n",
    "fine_tune_epochs = initial_epochs + 5\n",
    "\n",
    "# Refit the model\n",
    "history_4 = model_3.fit(train_data_fine,\n",
    "                        epochs=fine_tune_epochs,\n",
    "                        validation_data=test_data_fine,\n",
    "                        initial_epoch=history_3.epoch[-1], # start from previous last epoch\n",
    "                        validation_steps=int(0.25 * len(test_data_fine)),\n",
    "                        )"
   ]
  },
  {
   "cell_type": "code",
   "execution_count": 13,
   "metadata": {},
   "outputs": [
    {
     "name": "stdout",
     "output_type": "stream",
     "text": [
      "476/476 [==============================] - 346s 727ms/step - loss: 0.0757 - accuracy: 0.9738\n"
     ]
    }
   ],
   "source": [
    "results_finetune = model_3.evaluate(test_data_fine)"
   ]
  },
  {
   "cell_type": "code",
   "execution_count": 14,
   "metadata": {},
   "outputs": [],
   "source": [
    "#Function to plot loss and accuracy curves for a model using its history\n",
    "def plot_loss_curves(history):\n",
    "\n",
    "  loss = history.history['loss']\n",
    "  val_loss = history.history['val_loss']\n",
    "\n",
    "  accuracy = history.history['accuracy']\n",
    "  val_accuracy = history.history['val_accuracy']\n",
    "\n",
    "  epochs = range(len(history.history['loss']))\n",
    "\n",
    "  # Plot loss\n",
    "  plt.plot(epochs, loss, label='training_loss')\n",
    "  plt.plot(epochs, val_loss, label='val_loss')\n",
    "  plt.title('Loss')\n",
    "  plt.xlabel('Epochs')\n",
    "  plt.legend()\n",
    "\n",
    "  # Plot accuracy\n",
    "  plt.figure()\n",
    "  plt.plot(epochs, accuracy, label='training_accuracy')\n",
    "  plt.plot(epochs, val_accuracy, label='val_accuracy')\n",
    "  plt.title('Accuracy')\n",
    "  plt.xlabel('Epochs')\n",
    "  plt.legend();"
   ]
  },
  {
   "cell_type": "code",
   "execution_count": 15,
   "metadata": {},
   "outputs": [
    {
     "data": {
      "image/png": "[encoded data removed]",
      "text/plain": [
       "<Figure size 432x288 with 1 Axes>"
      ]
     },
     "metadata": {
      "needs_background": "light"
     },
     "output_type": "display_data"
    },
    {
     "data": {
      "image/png": "[encoded data removed]",
      "text/plain": [
       "<Figure size 432x288 with 1 Axes>"
      ]
     },
     "metadata": {
      "needs_background": "light"
     },
     "output_type": "display_data"
    }
   ],
   "source": [
    "plot_loss_curves(history_3)"
   ]
  },
  {
   "cell_type": "code",
   "execution_count": 16,
   "metadata": {},
   "outputs": [
    {
     "data": {
      "image/png": "[encoded data removed]",
      "text/plain": [
       "<Figure size 432x288 with 1 Axes>"
      ]
     },
     "metadata": {
      "needs_background": "light"
     },
     "output_type": "display_data"
    },
    {
     "data": {
      "image/png": "[encoded data removed]",
      "text/plain": [
       "<Figure size 432x288 with 1 Axes>"
      ]
     },
     "metadata": {
      "needs_background": "light"
     },
     "output_type": "display_data"
    }
   ],
   "source": [
    "plot_loss_curves(history_4)"
   ]
  },
  {
   "cell_type": "code",
   "execution_count": 17,
   "metadata": {},
   "outputs": [],
   "source": [
    "#Fucntion to compare loss and accuracy curves (most code is copied from plot_loss_curves function above)\n",
    "def compare_historys(original_history, new_history, initial_epochs=5):\n",
    "    \n",
    "    # Get original history measurements\n",
    "    acc = original_history.history[\"accuracy\"]\n",
    "    loss = original_history.history[\"loss\"]\n",
    "\n",
    "    val_acc = original_history.history[\"val_accuracy\"]\n",
    "    val_loss = original_history.history[\"val_loss\"]\n",
    "\n",
    "    # Combine original history with new history\n",
    "    total_acc = acc + new_history.history[\"accuracy\"]\n",
    "    total_loss = loss + new_history.history[\"loss\"]\n",
    "\n",
    "    total_val_acc = val_acc + new_history.history[\"val_accuracy\"]\n",
    "    total_val_loss = val_loss + new_history.history[\"val_loss\"]\n",
    "\n",
    "    # Make plots\n",
    "    plt.figure(figsize=(8, 8))\n",
    "    plt.subplot(2, 1, 1)\n",
    "    plt.plot(total_acc, label='Training Accuracy')\n",
    "    plt.plot(total_val_acc, label='Validation Accuracy')\n",
    "    plt.plot([initial_epochs-1, initial_epochs-1],\n",
    "              plt.ylim(), label='Start Fine Tuning') # reshift plot around epochs\n",
    "    plt.legend(loc='lower right')\n",
    "    plt.title('Training and Validation Accuracy')\n",
    "\n",
    "    plt.subplot(2, 1, 2)\n",
    "    plt.plot(total_loss, label='Training Loss')\n",
    "    plt.plot(total_val_loss, label='Validation Loss')\n",
    "    plt.plot([initial_epochs-1, initial_epochs-1],\n",
    "              plt.ylim(), label='Start Fine Tuning') # reshift plot around epochs\n",
    "    plt.legend(loc='upper right')\n",
    "    plt.title('Training and Validation Loss')\n",
    "    plt.xlabel('epoch')\n",
    "    plt.show()"
   ]
  },
  {
   "cell_type": "code",
   "execution_count": 19,
   "metadata": {},
   "outputs": [
    {
     "data": {
      "image/png": "[encoded data removed]",
      "text/plain": [
       "<Figure size 576x576 with 2 Axes>"
      ]
     },
     "metadata": {
      "needs_background": "light"
     },
     "output_type": "display_data"
    }
   ],
   "source": [
    "compare_historys(history_3, history_4, 5)"
   ]
  },
  {
   "cell_type": "code",
   "execution_count": null,
   "metadata": {},
   "outputs": [],
   "source": []
  }
 ],
 "metadata": {
  "kernelspec": {
   "display_name": "gpu2",
   "language": "python",
   "name": "gpu2"
  },
  "language_info": {
   "codemirror_mode": {
    "name": "ipython",
    "version": 3
   },
   "file_extension": ".py",
   "mimetype": "text/x-python",
   "name": "python",
   "nbconvert_exporter": "python",
   "pygments_lexer": "ipython3",
   "version": "3.6.13"
  }
 },
 "nbformat": 4,
 "nbformat_minor": 4
}
